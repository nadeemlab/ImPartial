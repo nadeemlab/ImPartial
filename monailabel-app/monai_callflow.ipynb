{
 "cells": [
  {
   "cell_type": "code",
   "execution_count": null,
   "id": "b41e67b8",
   "metadata": {
    "pycharm": {
     "name": "#%%\n"
    }
   },
   "outputs": [],
   "source": [
    "import io\n",
    "import requests\n",
    "import numpy as np\n",
    "from PIL import Image, ImageDraw\n",
    "\n",
    "localhost = False\n",
    "\n",
    "if localhost:\n",
    "    monailabel_url = \"http://localhost:8000\"\n",
    "else:\n",
    "    monailabel_url = \"http://10.0.3.62:8000\"\n"
   ]
  },
  {
   "cell_type": "code",
   "execution_count": null,
   "id": "a4f8a96d",
   "metadata": {
    "pycharm": {
     "name": "#%%\n"
    }
   },
   "outputs": [],
   "source": [
    "# Get Monai Label server info\n",
    "\n",
    "res = requests.get(\n",
    "    f'{monailabel_url}/info'\n",
    ")\n",
    "\n",
    "res.raise_for_status()\n",
    "\n",
    "res.json()\n"
   ]
  },
  {
   "cell_type": "code",
   "execution_count": null,
   "id": "ec785f68",
   "metadata": {
    "pycharm": {
     "name": "#%%\n"
    }
   },
   "outputs": [],
   "source": [
    "# Select image from dataset\n",
    "\n",
    "res = requests.post(\n",
    "    f'{monailabel_url}/activelearning/random'\n",
    ")\n",
    "\n",
    "res.raise_for_status()\n",
    "\n",
    "res.json()\n"
   ]
  },
  {
   "cell_type": "code",
   "execution_count": null,
   "id": "80321649",
   "metadata": {},
   "outputs": [],
   "source": [
    "# Run Impartial inference\n",
    "\n",
    "res = requests.post(\n",
    "    f'{monailabel_url}/infer/impartial',\n",
    "    params={\"image\": \"image1\", \"output\": \"image\"},\n",
    "    # data={'params': '{\"device\": \"cpu\", \"tile_size\": [400, 400], \"output\": \"default\"}'}\n",
    ")\n",
    "\n",
    "res.raise_for_status()\n"
   ]
  },
  {
   "cell_type": "code",
   "execution_count": null,
   "id": "c5bfd7f6",
   "metadata": {
    "pycharm": {
     "name": "#%%\n"
    },
    "scrolled": false
   },
   "outputs": [],
   "source": [
    "import io\n",
    "import pickle\n",
    "\n",
    "def normalize(xs):\n",
    "    return (255.0 * (xs - xs.min())) / (xs.max() - xs.min())\n",
    "\n",
    "def array_to_pil(xs):\n",
    "    return Image.fromarray(np.uint8(normalize(xs)) , 'L')\n",
    "\n",
    "im = pickle.load(io.BytesIO(res.content))\n",
    "\n",
    "display(array_to_pil(im['0']['class_segmentation'][0][0]))\n",
    "\n",
    "display(array_to_pil(im['0']['factors']['components'][0][0]))\n"
   ]
  },
  {
   "cell_type": "code",
   "execution_count": null,
   "id": "e6bf3fe8",
   "metadata": {
    "pycharm": {
     "name": "#%%\n"
    }
   },
   "outputs": [],
   "source": [
    "# Legacy. Draw results from deepedit sample app\n",
    "\n",
    "contours = results['annotations'][0]['annotation']['elements'][0]['contours']\n",
    "\n",
    "with Image.open(\"./Data/Vectra_2CH/nuclei/Easy1.png\") as im:\n",
    "    draw = ImageDraw.Draw(im)\n",
    "    \n",
    "    for c in contours:\n",
    "        for p1, p2 in zip(c, c[1:]):\n",
    "            draw.line((p1[0], p1[1], p2[0], p2[1]), fill=128, width=2, joint=\"curve\")\n",
    "        draw.line((c[0][0], c[0][1], c[-1][0], c[-1][1]), fill=128, width=2, joint=\"curve\")\n",
    "\n",
    "\n",
    "    display(im)"
   ]
  },
  {
   "cell_type": "code",
   "execution_count": null,
   "id": "311d1e7b",
   "metadata": {
    "pycharm": {
     "name": "#%%\n"
    }
   },
   "outputs": [],
   "source": [
    "\n",
    "import torch\n",
    "from collections import OrderedDict\n",
    "new_state_dict = OrderedDict()\n",
    "\n",
    "state_dict = torch.load(\"Impartial/pathology/model/pretrained_impartial.pth\", map_location=torch.device(\"cpu\"))[0]\n",
    "\n",
    "for k, v in state_dict.items():\n",
    "    name = k[7:] # remove `module.`\n",
    "    new_state_dict[name] = v\n",
    "\n",
    "torch.save(new_state_dict, \"Impartial/pathology/model/pretrained_impartial_2.pth\")\n",
    "\n",
    "new_state_dict"
   ]
  }
 ],
 "metadata": {
  "kernelspec": {
   "display_name": "Python 3 (ipykernel)",
   "language": "python",
   "name": "python3"
  },
  "language_info": {
   "codemirror_mode": {
    "name": "ipython",
    "version": 3
   },
   "file_extension": ".py",
   "mimetype": "text/x-python",
   "name": "python",
   "nbconvert_exporter": "python",
   "pygments_lexer": "ipython3",
   "version": "3.8.12"
  }
 },
 "nbformat": 4,
 "nbformat_minor": 5
}
