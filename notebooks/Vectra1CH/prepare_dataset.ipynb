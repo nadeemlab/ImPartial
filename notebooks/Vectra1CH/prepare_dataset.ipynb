{
 "cells": [
  {
   "cell_type": "code",
   "execution_count": 24,
   "metadata": {},
   "outputs": [],
   "source": [
    "import sys\n",
    "import os\n",
    "import pandas as pd\n",
    "import numpy as np\n",
    "import cv2 as cv\n",
    "import numpy as np\n",
    "import roifile\n",
    "import matplotlib.pyplot as plt\n",
    "from skimage import io\n",
    "import matplotlib.pyplot as plt"
   ]
  },
  {
   "cell_type": "code",
   "execution_count": null,
   "metadata": {},
   "outputs": [],
   "source": [
    "data_dir = \"/nadeem_lab/Gunjan/data/impartial/Vectra1CH_images/nuclear_mask/\"\n",
    "img_name1 = 'Hodgkin_Dapi9.png'\n",
    "img_name2 = 'Hodgkin_Dapi9.tif'\n",
    "img_mask1 = np.array(io.imread(data_dir + img_name1)).astype(int)\n",
    "img_mask2 = np.array(io.imread(data_dir + img_name2)).astype(int)\n",
    "# io.imsave(data_dir + \"Hodgkin_Dapi8.png\", img_mask)\n",
    "\n",
    "print(\"img_mask\", img_mask1.shape)\n",
    "print(\"img_mask\", img_mask2.shape)\n",
    "\n",
    "\n",
    "plt.figure(figsize=(20,20))\n",
    "plt.subplot(1,2,1)\n",
    "plt.title(\"Image\")\n",
    "plt.imshow(img_mask1)\n",
    "\n",
    "plt.subplot(1,2,2)\n",
    "plt.title(\"Image\")\n",
    "plt.imshow(img_mask2)\n",
    "\n"
   ]
  },
  {
   "cell_type": "code",
   "execution_count": 28,
   "metadata": {},
   "outputs": [],
   "source": [
    "def percentile_normalization(image, pmin=1, pmax=98, clip = False):\n",
    "    # Normalize the image using percentiles\n",
    "    lo, hi = np.percentile(image, (pmin, pmax))\n",
    "    image_norm_percentile = (image - lo) / (hi - lo)\n",
    "    \n",
    "    if clip:\n",
    "        image_norm_percentile[image_norm_percentile>1] = 1\n",
    "        image_norm_percentile[image_norm_percentile<0] = 0\n",
    "        \n",
    "    return image_norm_percentile"
   ]
  },
  {
   "cell_type": "code",
   "execution_count": null,
   "metadata": {},
   "outputs": [],
   "source": [
    "from os.path import join\n",
    "import glob\n",
    "from scipy import ndimage\n",
    "\n",
    "data_dir = \"/nadeem_lab/Gunjan/data/impartial/Vectra1CH_images/nuclear_mask/\"\n",
    "\n",
    "filenames  = sorted(glob.glob(join(data_dir,'*Class3.png')))\n",
    "images = sorted(glob.glob(join(data_dir,'*Nuclear.png')))\n",
    "\n",
    "# print(\"filenames \\n\", filenames)\n",
    "\n",
    "# print(\"images \\n\", images)\n",
    "count = 0\n",
    "savedir = \"/nadeem_lab/Gunjan/data/impartial/Vectra1CH/\"\n",
    "\n",
    "for (image, filename) in zip(images, filenames):\n",
    "    print(image)\n",
    "    # print(filename)\n",
    "\n",
    "    img = np.array(io.imread(image)).astype(int)\n",
    "\n",
    "    # Normalize input image\n",
    "    ch_number = np.mean(img)\n",
    "    # print(\"ch_number : \", ch_number)\n",
    "\n",
    "    img = percentile_normalization(img, pmin=1, pmax=98, clip = False)\n",
    "\n",
    "    ch_number = np.mean(img)\n",
    "    # print(\"ch_number : \", ch_number)\n",
    "\n",
    "    img_mask = np.array(io.imread(filename)).astype(int)\n",
    "\n",
    "    # print(\"img_mask\", img_mask.shape)\n",
    "\n",
    "    pred_thresholded = img_mask / 255\n",
    "    labels, _ = ndimage.label(pred_thresholded)\n",
    "\n",
    "    # np.savez('/nadeem_lab/Gunjan/data/impartial/Vectra1CH/' + 'image_' + str(count) + '.npz', image = img, label = labels)\n",
    "\n",
    "    # plt.figure(figsize=(20,20))\n",
    "    # plt.subplot(1,3,1)\n",
    "    # plt.title(\"Image\")\n",
    "    # plt.imshow(img)\n",
    "\n",
    "    # plt.subplot(1,3,2)\n",
    "    # plt.title(\"Image mask\")\n",
    "    # plt.imshow(img_mask)\n",
    "\n",
    "    # plt.subplot(1,3,3)\n",
    "    # plt.title(\"labels_pred\")\n",
    "    # plt.imshow(labels)\n",
    "\n",
    "    # break\n",
    "\n",
    "    count = count +1\n",
    "\n",
    "\n"
   ]
  },
  {
   "cell_type": "code",
   "execution_count": 43,
   "metadata": {},
   "outputs": [],
   "source": [
    "row_list = []\n",
    "# prefix     input_file  group\n",
    "for i in range(0,35):\n",
    "    group = 'train'\n",
    "    row_list.append(['image_' + str(i), 'image_' + str(i) + '.npz', group])"
   ]
  },
  {
   "cell_type": "code",
   "execution_count": 44,
   "metadata": {},
   "outputs": [],
   "source": [
    "savedir = \"/nadeem_lab/Gunjan/data/impartial/Vectra1CH/\"\n",
    "\n",
    "pd_files = pd.DataFrame(data = row_list, columns = ['prefix', 'input_file','group'])\n",
    "pd_files.to_csv(savedir + 'files.csv')"
   ]
  },
  {
   "cell_type": "code",
   "execution_count": null,
   "metadata": {},
   "outputs": [],
   "source": [
    "pd_file = pd.read_csv(savedir + 'files.csv')\n",
    "print(savedir + 'files.csv')\n",
    "pd_file"
   ]
  },
  {
   "cell_type": "code",
   "execution_count": null,
   "metadata": {},
   "outputs": [],
   "source": [
    "from scipy import ndimage\n",
    "\n",
    "print(\"img_mask\", img_mask)\n",
    "pred_thresholded = img_mask / 255\n",
    "\n",
    "\n",
    "# pred_thresholded1 = img_mask[:,:,0] / 255\n",
    "# pred_thresholded2 = img_mask[:,:,1] / 255\n",
    "# pred_thresholded3 = img_mask[:,:,2] / 255\n",
    "# pred_thresholded4 = img_mask[:,:,3] / 255\n",
    "\n",
    "# labels_pred1, _ = ndimage.label(pred_thresholded1)\n",
    "# labels_pred2, _ = ndimage.label(pred_thresholded2)\n",
    "# labels_pred3, _ = ndimage.label(pred_thresholded3)\n",
    "# labels_pred4, _ = ndimage.label(pred_thresholded4)\n",
    "labels_pred, _ = ndimage.label(pred_thresholded)\n",
    "\n",
    "\n",
    "plt.figure(figsize=(20,20))\n",
    "plt.subplot(1,2,1)\n",
    "plt.title(\"labels_pred\")\n",
    "plt.imshow(labels_pred)\n",
    "\n",
    "# plt.subplot(1,4,2)\n",
    "# plt.title(\"labels_pred\")\n",
    "# plt.imshow(labels_pred2)\n",
    "\n",
    "# plt.subplot(1,4,3)\n",
    "# plt.title(\"labels_pred\")\n",
    "# plt.imshow(labels_pred3)\n",
    "\n",
    "# plt.subplot(1,4,4)\n",
    "# plt.title(\"labels_pred\")\n",
    "# plt.imshow(labels_pred4)"
   ]
  }
 ],
 "metadata": {
  "kernelspec": {
   "display_name": "Python 3.6.9 64-bit",
   "language": "python",
   "name": "python3"
  },
  "language_info": {
   "codemirror_mode": {
    "name": "ipython",
    "version": 3
   },
   "file_extension": ".py",
   "mimetype": "text/x-python",
   "name": "python",
   "nbconvert_exporter": "python",
   "pygments_lexer": "ipython3",
   "version": "3.6.9"
  },
  "orig_nbformat": 4,
  "vscode": {
   "interpreter": {
    "hash": "31f2aee4e71d21fbe5cf8b01ff0e069b9275f58929596ceb00d14d90e3e16cd6"
   }
  }
 },
 "nbformat": 4,
 "nbformat_minor": 2
}
